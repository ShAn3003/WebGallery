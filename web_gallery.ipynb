{
 "cells": [
  {
   "cell_type": "markdown",
   "metadata": {},
   "source": [
    "## 实现一个基于web的相册系统，支持：\n",
    "\n",
    "1. 支持相册定义功能，能修改相册的名称；\n",
    "\n",
    "2. 支持相片上传到相册功能；\n",
    "\n",
    "3. 支持浏览相册功能，平铺查看所有相片也可以打开单幅前后浏览；\n",
    "\n",
    "4. 支持删除相片和相册功能；\n",
    "\n",
    "5. 支持添加相片标签，并能够根据标签查找；"
   ]
  },
  {
   "cell_type": "code",
   "execution_count": null,
   "metadata": {},
   "outputs": [],
   "source": [
    "'''\n",
    "Description: There is a description\n",
    "Author: ShAn_3003\n",
    "version: 1.0\n",
    "Date: 2023-12-15 23:30:42\n",
    "LastEditors: ShAn_3003\n",
    "LastEditTime: 2023-12-16 22:21:32\n",
    "'''\n",
    "import os\n",
    "import datetime\n",
    "\n",
    "class Album(object):\n",
    "    def __init__(self,id,name,created_at,description):\n",
    "        self.id = id\n",
    "        self.name = name\n",
    "        self.created_at = created_at\n",
    "        self.description = description\n",
    "    def to_dict(self):\n",
    "        return {\"id\": self.id,\"name\":self.name,\"create_at\":self.created_at,\"description\":self.description}\n",
    "\n",
    "class Photo(object):\n",
    "    def __init__(self,id,album_id,name,path,size,created_at,tags):\n",
    "        self.id = id\n",
    "        self.album_id = album_id\n",
    "        self.name = name\n",
    "        self.path = path\n",
    "        self.size = size\n",
    "        self.tags = tags\n",
    "        self.created_at = created_at\n",
    "    def to_dict(self):\n",
    "        return {\n",
    "            \"id\": self.id,\n",
    "            \"album_id\": self.album_id,\n",
    "            \"name\": self.name,\n",
    "            \"path\": self.path,\n",
    "            \"size\": self.size,\n",
    "            \"created_at\": self.created_at,\n",
    "            \"tags\": self.tags,\n",
    "        }"
   ]
  },
  {
   "cell_type": "code",
   "execution_count": 1,
   "metadata": {},
   "outputs": [
    {
     "ename": "RuntimeError",
     "evalue": "asyncio.run() cannot be called from a running event loop",
     "output_type": "error",
     "traceback": [
      "\u001b[1;31m---------------------------------------------------------------------------\u001b[0m",
      "\u001b[1;31mRuntimeError\u001b[0m                              Traceback (most recent call last)",
      "\u001b[1;32md:\\Desktop\\ShAn_py\\WebGallery\\web_gallery.ipynb 单元格 3\u001b[0m line \u001b[0;36m<cell line: 16>\u001b[1;34m()\u001b[0m\n\u001b[0;32m     <a href='vscode-notebook-cell:/d%3A/Desktop/ShAn_py/WebGallery/web_gallery.ipynb#W3sZmlsZQ%3D%3D?line=12'>13</a>\u001b[0m     app\u001b[39m.\u001b[39mlisten(\u001b[39m8888\u001b[39m)\n\u001b[0;32m     <a href='vscode-notebook-cell:/d%3A/Desktop/ShAn_py/WebGallery/web_gallery.ipynb#W3sZmlsZQ%3D%3D?line=13'>14</a>\u001b[0m     \u001b[39mawait\u001b[39;00m asyncio\u001b[39m.\u001b[39mEvent()\u001b[39m.\u001b[39mwait()\n\u001b[1;32m---> <a href='vscode-notebook-cell:/d%3A/Desktop/ShAn_py/WebGallery/web_gallery.ipynb#W3sZmlsZQ%3D%3D?line=15'>16</a>\u001b[0m asyncio\u001b[39m.\u001b[39;49mrun(main())\n",
      "File \u001b[1;32md:\\Anaconda\\lib\\asyncio\\runners.py:33\u001b[0m, in \u001b[0;36mrun\u001b[1;34m(main, debug)\u001b[0m\n\u001b[0;32m      9\u001b[0m \u001b[39m\"\"\"Execute the coroutine and return the result.\u001b[39;00m\n\u001b[0;32m     10\u001b[0m \n\u001b[0;32m     11\u001b[0m \u001b[39mThis function runs the passed coroutine, taking care of\u001b[39;00m\n\u001b[1;32m   (...)\u001b[0m\n\u001b[0;32m     30\u001b[0m \u001b[39m    asyncio.run(main())\u001b[39;00m\n\u001b[0;32m     31\u001b[0m \u001b[39m\"\"\"\u001b[39;00m\n\u001b[0;32m     32\u001b[0m \u001b[39mif\u001b[39;00m events\u001b[39m.\u001b[39m_get_running_loop() \u001b[39mis\u001b[39;00m \u001b[39mnot\u001b[39;00m \u001b[39mNone\u001b[39;00m:\n\u001b[1;32m---> 33\u001b[0m     \u001b[39mraise\u001b[39;00m \u001b[39mRuntimeError\u001b[39;00m(\n\u001b[0;32m     34\u001b[0m         \u001b[39m\"\u001b[39m\u001b[39masyncio.run() cannot be called from a running event loop\u001b[39m\u001b[39m\"\u001b[39m)\n\u001b[0;32m     36\u001b[0m \u001b[39mif\u001b[39;00m \u001b[39mnot\u001b[39;00m coroutines\u001b[39m.\u001b[39miscoroutine(main):\n\u001b[0;32m     37\u001b[0m     \u001b[39mraise\u001b[39;00m \u001b[39mValueError\u001b[39;00m(\u001b[39m\"\u001b[39m\u001b[39ma coroutine was expected, got \u001b[39m\u001b[39m{!r}\u001b[39;00m\u001b[39m\"\u001b[39m\u001b[39m.\u001b[39mformat(main))\n",
      "\u001b[1;31mRuntimeError\u001b[0m: asyncio.run() cannot be called from a running event loop"
     ]
    }
   ],
   "source": [
    "import asyncio\n",
    "import tornado.web\n",
    "\n",
    "class MainHandler(tornado.web.RequestHandler):\n",
    "    def get(self):\n",
    "        self.write(\"Hello World!\")\n",
    "def make_app():\n",
    "    return tornado.web.Application([\n",
    "        (r\"/\",MainHandler),\n",
    "    ])\n",
    "async def main():\n",
    "    app = make_app()\n",
    "    app.listen(8888)\n",
    "    await asyncio.Event().wait()\n",
    "if __name__ == \"__main__\":\n",
    "    asyncio.run(main())\n",
    "    "
   ]
  }
 ],
 "metadata": {
  "kernelspec": {
   "display_name": "base",
   "language": "python",
   "name": "python3"
  },
  "language_info": {
   "codemirror_mode": {
    "name": "ipython",
    "version": 3
   },
   "file_extension": ".py",
   "mimetype": "text/x-python",
   "name": "python",
   "nbconvert_exporter": "python",
   "pygments_lexer": "ipython3",
   "version": "3.9.12"
  }
 },
 "nbformat": 4,
 "nbformat_minor": 2
}
